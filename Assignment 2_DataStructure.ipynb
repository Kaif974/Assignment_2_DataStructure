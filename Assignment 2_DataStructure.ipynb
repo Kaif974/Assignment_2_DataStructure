{
 "cells": [
  {
   "cell_type": "markdown",
   "id": "4a1b116d-78cf-4692-8af5-79d69eb72224",
   "metadata": {},
   "source": [
    "## Assignment 2 Data Structure"
   ]
  },
  {
   "cell_type": "markdown",
   "id": "307b88eb-179d-446b-ba3c-d51df9885c22",
   "metadata": {},
   "source": [
    " Q1.Discuss string slicing and provide examples."
   ]
  },
  {
   "cell_type": "markdown",
   "id": "5d7eab2b-51dc-4597-b06e-2e667b9df006",
   "metadata": {},
   "source": [
    "Ans1.String slicing is a technique in Python that allows you to extract a portion or \"slice\" of a string using its indices. A string is treated as an array of characters, where each character has a corresponding index."
   ]
  },
  {
   "cell_type": "code",
   "execution_count": 2,
   "id": "592d1893-37be-4c6d-88b9-1cb6475ee766",
   "metadata": {},
   "outputs": [
    {
     "name": "stdout",
     "output_type": "stream",
     "text": [
      "Hello\n"
     ]
    }
   ],
   "source": [
    "text = \"Hello, World!\"\n",
    "print(text[0:5]) \n"
   ]
  },
  {
   "cell_type": "code",
   "execution_count": 3,
   "id": "cb911a62-aa4b-4ac5-b58a-033fdc845a18",
   "metadata": {},
   "outputs": [
    {
     "name": "stdout",
     "output_type": "stream",
     "text": [
      "Hello\n",
      "World!\n"
     ]
    }
   ],
   "source": [
    "print(text[:5]) \n",
    "print(text[7:])  \n"
   ]
  },
  {
   "cell_type": "code",
   "execution_count": 4,
   "id": "8144ffc1-4746-4849-b2b6-c8f314a152ee",
   "metadata": {},
   "outputs": [
    {
     "name": "stdout",
     "output_type": "stream",
     "text": [
      "Hello, Wo\n"
     ]
    }
   ],
   "source": [
    "print(text[0:-4])"
   ]
  },
  {
   "cell_type": "code",
   "execution_count": 5,
   "id": "2da04974-820d-492e-b541-1233d8753570",
   "metadata": {},
   "outputs": [
    {
     "name": "stdout",
     "output_type": "stream",
     "text": [
      "Hlo ol!\n"
     ]
    }
   ],
   "source": [
    "print(text[::2])\n"
   ]
  },
  {
   "cell_type": "markdown",
   "id": "47c16196-d6c9-4d40-bad5-0f258fa16abc",
   "metadata": {},
   "source": [
    "Q2.Explain the key features of lists in Python.\n"
   ]
  },
  {
   "cell_type": "markdown",
   "id": "29e36409-7e85-46e6-b258-16d4e50f4ded",
   "metadata": {},
   "source": [
    "Ans2.Lists in Python are a flexible and powerful data structure used to store an ordered collection of items. They support various operations like adding, removing, or modifying elements and can hold items of different data types. Here are the key features of lists in Python:\n",
    "\n",
    "1.Ordered Collection\n",
    "Lists maintain the order of elements, meaning that items have a specific position based on how they were added. You can access elements using their index.\n",
    "2.Mutable\n",
    "Lists are mutable, meaning the elements can be modified after the list is created. You can add, remove, or change items in a list.\n",
    "3.Heterogeneous (Different Data Types)\n",
    "Lists can hold items of different data types, such as integers, strings, floats, or even other lists.\n",
    "4.Dynamic Sizing\n",
    "Lists in Python can grow or shrink dynamically as items are added or removed. There is no need to define the size of a list beforehand.\n",
    "5.Indexing and Slicing\n",
    "Lists support accessing elements through indexing and slicing.\n",
    "Indexing: Access a single element.\n",
    "Slicing: Access a range of elements.\n",
    "6.List Methods:\n",
    "Python lists provide many built-in methods for common operations:\n",
    "append(item): Adds an item to the end of the list.\n",
    "insert(index, item): Inserts an item at a specific index.\n",
    "remove(item): Removes the first occurrence of an item.\n",
    "pop([index]): Removes and returns the item at the given index (default is the last item).\n",
    "sort(): Sorts the list in place.\n",
    "reverse(): Reverses the elements of the list in place.\n",
    "7.Nested Lists:\n",
    "Lists can contain other lists as elements, allowing for the creation of multi-dimensional lists (e.g., a matrix).\n",
    "8.Iteration:\n",
    "You can iterate over the elements of a list using loops (e.g., for loops).\n",
    "9.List Comprehensions:\n",
    "List comprehensions provide a concise way to create lists by using a loop inside square brackets.\n",
    "10.Membership Checking:\n",
    "You can use the in operator to check whether an element exists in a list."
   ]
  },
  {
   "cell_type": "markdown",
   "id": "af33a267-4f2d-4d05-9e5a-074c7a5b82fb",
   "metadata": {},
   "source": [
    "Q3.Describe how to access, modify, and delete elements in a list with examples.\n"
   ]
  },
  {
   "cell_type": "markdown",
   "id": "1c8bd20c-2130-4a42-b859-ed4b57e9599c",
   "metadata": {},
   "source": [
    "Ans3.In Python, lists are mutable, which means you can easily access, modify, and delete elements. Here’s how to perform these operations with examples"
   ]
  },
  {
   "cell_type": "code",
   "execution_count": 6,
   "id": "b14eebb3-96e0-45d5-8e86-d498c5a8a7ea",
   "metadata": {},
   "outputs": [
    {
     "name": "stdout",
     "output_type": "stream",
     "text": [
      "20\n"
     ]
    }
   ],
   "source": [
    "#Ordered\n",
    "my_list = [10, 20, 30]\n",
    "print(my_list[1])\n"
   ]
  },
  {
   "cell_type": "code",
   "execution_count": 7,
   "id": "6d5487a9-0c95-4664-a777-c0fcb87479ad",
   "metadata": {},
   "outputs": [
    {
     "name": "stdout",
     "output_type": "stream",
     "text": [
      "[40, 20, 30]\n"
     ]
    }
   ],
   "source": [
    "#Mutable\n",
    "my_list = [10, 20, 30]\n",
    "my_list[0] = 40\n",
    "print(my_list)\n"
   ]
  },
  {
   "cell_type": "code",
   "execution_count": 8,
   "id": "2dc976fa-a879-46ea-b38e-4743985dc7f1",
   "metadata": {},
   "outputs": [
    {
     "name": "stdout",
     "output_type": "stream",
     "text": [
      "[10, 'hello', 7.4, [4, 5]]\n"
     ]
    }
   ],
   "source": [
    "#Different Types\n",
    "mix_list=[10,\"hello\",7.4,[4,5]]\n",
    "print(mix_list)"
   ]
  },
  {
   "cell_type": "code",
   "execution_count": 9,
   "id": "b60ad58d-a987-44d1-a7d3-c9a893d944b3",
   "metadata": {},
   "outputs": [
    {
     "name": "stdout",
     "output_type": "stream",
     "text": [
      "[1, 2, 3, 4]\n"
     ]
    }
   ],
   "source": [
    "#Dynamic Sizing\n",
    "my_list = [1, 2, 3]\n",
    "my_list.append(4)\n",
    "print(my_list)  \n"
   ]
  },
  {
   "cell_type": "code",
   "execution_count": 10,
   "id": "6df941a6-f64f-432b-b1b8-f4c4e4254756",
   "metadata": {},
   "outputs": [
    {
     "name": "stdout",
     "output_type": "stream",
     "text": [
      "10\n",
      "30\n"
     ]
    }
   ],
   "source": [
    "#indexing \n",
    "my_list = [10, 20, 30]\n",
    "print(my_list[0]) \n",
    "print(my_list[-1]) \n"
   ]
  },
  {
   "cell_type": "code",
   "execution_count": 11,
   "id": "09689d7d-9c3f-41d0-8392-0d2d99598cfc",
   "metadata": {},
   "outputs": [
    {
     "name": "stdout",
     "output_type": "stream",
     "text": [
      "[20, 30, 40]\n"
     ]
    }
   ],
   "source": [
    "#slicing\n",
    "my_list = [10, 20, 30, 40, 50]\n",
    "print(my_list[1:4])\n"
   ]
  },
  {
   "cell_type": "code",
   "execution_count": 12,
   "id": "0b003245-0da0-40a7-a038-fc8e0a055282",
   "metadata": {},
   "outputs": [
    {
     "name": "stdout",
     "output_type": "stream",
     "text": [
      "[20, 30, 45, 4]\n"
     ]
    }
   ],
   "source": [
    "#List Methods\n",
    "#append\n",
    "my_list=[20,30,45]\n",
    "my_list.append(4)\n",
    "print(my_list)"
   ]
  },
  {
   "cell_type": "code",
   "execution_count": 13,
   "id": "0b517c0f-9f53-4e43-b8da-12d3aa14917c",
   "metadata": {},
   "outputs": [
    {
     "name": "stdout",
     "output_type": "stream",
     "text": [
      "[20, 15, 30, 45, 30]\n"
     ]
    }
   ],
   "source": [
    "#insert\n",
    "my_list=[20,30,45,30]\n",
    "my_list.insert(1, 15) \n",
    "print(my_list)"
   ]
  },
  {
   "cell_type": "code",
   "execution_count": 14,
   "id": "50ff8a1b-fe58-43a5-abaf-52afc4e9b684",
   "metadata": {},
   "outputs": [
    {
     "name": "stdout",
     "output_type": "stream",
     "text": [
      "[20, 45, 30]\n"
     ]
    }
   ],
   "source": [
    "#remove\n",
    "my_list=[20,30,45,30]\n",
    "my_list.remove(30) \n",
    "print(my_list)\n"
   ]
  },
  {
   "cell_type": "code",
   "execution_count": 15,
   "id": "952dba81-969d-4afa-bdcd-585e72ab35dc",
   "metadata": {},
   "outputs": [
    {
     "name": "stdout",
     "output_type": "stream",
     "text": [
      "[20, 30, 45]\n"
     ]
    }
   ],
   "source": [
    "#pop\n",
    "my_list=[20,30,45,30]\n",
    "my_list.pop() \n",
    "print(my_list)"
   ]
  },
  {
   "cell_type": "code",
   "execution_count": 16,
   "id": "7398dd3d-f484-4753-81b5-b459d62bdeb4",
   "metadata": {},
   "outputs": [
    {
     "name": "stdout",
     "output_type": "stream",
     "text": [
      "[20, 30, 45, 30, 10, 35]\n"
     ]
    }
   ],
   "source": [
    "#extend\n",
    "my_list=[20,30,45,30]\n",
    "my_list.extend([10,35]) \n",
    "print(my_list)"
   ]
  },
  {
   "cell_type": "code",
   "execution_count": 17,
   "id": "68e76a48-f825-432d-a1ad-50403f3eed17",
   "metadata": {},
   "outputs": [
    {
     "name": "stdout",
     "output_type": "stream",
     "text": [
      "[20, 30, 30, 45]\n"
     ]
    }
   ],
   "source": [
    "#sort\n",
    "my_list=[20,30,45,30]\n",
    "my_list.sort() \n",
    "print(my_list)"
   ]
  },
  {
   "cell_type": "markdown",
   "id": "04634299-876f-44c1-a9dd-3297fa8ef860",
   "metadata": {},
   "source": [
    "Q4. Compare and contrast tuples and list with examples."
   ]
  },
  {
   "cell_type": "code",
   "execution_count": 19,
   "id": "2fd2dd37-b002-4593-a197-2319e191ae28",
   "metadata": {},
   "outputs": [
    {
     "name": "stdout",
     "output_type": "stream",
     "text": [
      "198.34\n"
     ]
    }
   ],
   "source": [
    "#Tuples Example\n",
    "#Tuple can be sliced and indexed, but it cannot be modififed\n",
    "\n",
    "tuple1=(\"iron\", 1, 198.34, 7+2j)\n",
    "print(tuple1[2])\n",
    "\n",
    "#  tuple1[0] = \"Thor\"     #This will give Error as tuple is immutable Data Structure"
   ]
  },
  {
   "cell_type": "code",
   "execution_count": 20,
   "id": "886e14ac-c6fa-4b74-8577-875716772217",
   "metadata": {},
   "outputs": [
    {
     "name": "stdout",
     "output_type": "stream",
     "text": [
      "['ironMan', 'Spyderman']\n",
      "['ironMan', 'Spyderman', 'Joker', 'AquaMan']\n"
     ]
    }
   ],
   "source": [
    "#List Examples\n",
    "DC=[\"ironMan\", \"Spyderman\", \"thor\", \"AquaMan\"]\n",
    "\n",
    "print(DC[0:2])\n",
    "DC[2] = \"Joker\"  #Thi will replace the value of 2nd index in list DC\n",
    "print(DC)"
   ]
  },
  {
   "cell_type": "markdown",
   "id": "055a692b-86e8-4b7c-98b7-eb431013b845",
   "metadata": {},
   "source": [
    "Q5. Describe the key features of sets and provide example.\n"
   ]
  },
  {
   "cell_type": "code",
   "execution_count": 21,
   "id": "69a050e1-c297-4211-aca3-e5886d6396da",
   "metadata": {},
   "outputs": [
    {
     "name": "stdout",
     "output_type": "stream",
     "text": [
      "{1, 2, 3, 'horer', 23.4}\n",
      "{33, 2, 4, 21, 6, 7}\n",
      "set1 (after adding 5) = {1, 2, 3, 'horer', 5, 23.4}\n",
      "set1 (after removing Thor) = {1, 2, 3, 5, 23.4}\n"
     ]
    }
   ],
   "source": [
    "# Sets are an uordered collection of unique values.\n",
    "# it will automatically elimantes the Duplicate Values.\n",
    "# Unlike the Tuples, in Set we can add or remove the elements. Set is a Mutable object\n",
    "\n",
    "set1={1,2,3,\"horer\", 23.4}\n",
    "print(set1)\n",
    "\n",
    "set2={2,2,4,6,7,6,33,21,33}\n",
    "print(set2)   # this will remove the duplicate elements from the sets\n",
    "\n",
    "#Adding element in a set\n",
    "set1.add(5)\n",
    "print(\"set1 (after adding 5) =\",set1)\n",
    "\n",
    "#Adding element in a set\n",
    "set1.remove(\"horer\")\n",
    "print(\"set1 (after removing Thor) =\",set1)"
   ]
  },
  {
   "cell_type": "markdown",
   "id": "9a2669d0-eee0-4527-afd2-ca441145c361",
   "metadata": {},
   "source": [
    "Q6. Discuss the use cases of tuples and sets in python programming"
   ]
  },
  {
   "cell_type": "code",
   "execution_count": 22,
   "id": "013c6d45-3787-4548-b11f-9ad5d3d8b106",
   "metadata": {},
   "outputs": [],
   "source": [
    "#Tuples Use Cases\n",
    "\n",
    "# 1. Tuples represents a collection of Data like a row in a Database.\n",
    "person=(\"Thor\", 540, \"Hammer\")\n",
    "\n",
    "# 2. It can use to store constants like Days of the Week, Months.\n",
    "days=(\"Monday\",\"Tuesday\",\"Wednesday\",\"Thursday\",\"Friday\",\"Saturday\",\"Sunday\")\n",
    "motnhs=(\"Jan\",\"Feb\",\"Mar\",\"Apr\",\"May\")#...\n",
    "\n",
    "# 3. Tuples are faster and memory efficient than lists."
   ]
  },
  {
   "cell_type": "code",
   "execution_count": 25,
   "id": "71d2dc8b-1d29-4c1e-a29e-a42318d6d906",
   "metadata": {},
   "outputs": [
    {
     "name": "stdout",
     "output_type": "stream",
     "text": [
      "{'Hulk', 'Thor'}\n",
      "{'Hulk'}\n",
      "{'IronMan', 'Thor', 'Batman', 'Flash', 'Superman', 'Hulk'}\n"
     ]
    }
   ],
   "source": [
    "#Sets Use Cases\n",
    "\n",
    "# 1. Sets can be used tp remove duplicates from a Data.\n",
    "movie={\"Thor\",\"Hulk\",\"Thor\"}\n",
    "print(movie)  # this will remove the second occurance of \"Thor\"\n",
    "\n",
    "# 2. It can be be use to find common elements in 2 datasets.\n",
    "movie1={\"Thor\",\"Hulk\",\"IronMan\"}\n",
    "movie2={\"Batman\",\"Flash\",\"Superman\",\"Hulk\"}\n",
    "print(movie1 & movie2)   # this will print the common element in the 2 sets\n",
    "\n",
    "# 3. It can also be used to combine elements from 2 sets\n",
    "print(movie1 | movie2)"
   ]
  },
  {
   "cell_type": "markdown",
   "id": "5c6c9a72-3eff-4d1a-b351-a2e26d423745",
   "metadata": {},
   "source": [
    "Q7. Describe how to add, modify and delete items in a dictionary with examples."
   ]
  },
  {
   "cell_type": "code",
   "execution_count": 26,
   "id": "613d516f-9cbe-4afb-a60c-7cf5cf746f0c",
   "metadata": {},
   "outputs": [
    {
     "name": "stdout",
     "output_type": "stream",
     "text": [
      "{'name': 'Thor', 'age': 520, 'weapon': 'Hammer', 'level': 'god_of_lightning'}\n",
      "{'name': 'Thor', 'age': 520, 'weapon': 'Hammer', 'level': 'god_of_lightning', 'weapon_name': 'Mjolnir'}\n"
     ]
    }
   ],
   "source": [
    "# Add items in a Dictionary\n",
    "\n",
    "char={\"name\":\"Thor\", \"age\":520, \"weapon\":\"Hammer\"}\n",
    "char[\"level\"]=\"god_of_lightning\"   # this will create a key 'level' and assign the value as 'god' to same key.\n",
    "print(char)\n",
    "\n",
    "char.update({\"weapon_name\":\"Mjolnir\"}) \n",
    "print(char)"
   ]
  },
  {
   "cell_type": "code",
   "execution_count": 27,
   "id": "d136a27d-30cd-4029-bbe5-fe952315e651",
   "metadata": {},
   "outputs": [
    {
     "name": "stdout",
     "output_type": "stream",
     "text": [
      "{'name': 'Thor', 'age': 520, 'weapon': 'Hammer', 'level': 'god_of_lightning', 'weapon_name': 'Stormbreaker'}\n",
      "{'name': 'Thor', 'age': 520, 'weapon': 'Hammer', 'level': 'god_of_lightning', 'weapon_name': 'NA'}\n"
     ]
    }
   ],
   "source": [
    "# Modify items in the dictionary\n",
    "\n",
    "char[\"weapon_name\"]=\"Stormbreaker\"  # this will assign the new value to key weapon_name\n",
    "print(char)\n",
    "\n",
    "char.update({\"weapon_name\":\"NA\"})\n",
    "print(char)"
   ]
  },
  {
   "cell_type": "code",
   "execution_count": 28,
   "id": "3520ab68-8357-4f9b-8239-d2a6883956f6",
   "metadata": {},
   "outputs": [
    {
     "name": "stdout",
     "output_type": "stream",
     "text": [
      "{'name': 'Thor', 'age': 520, 'weapon': 'Hammer', 'weapon_name': 'NA'}\n",
      "{'name': 'Thor', 'age': 520, 'weapon': 'Hammer'}\n",
      "{}\n"
     ]
    }
   ],
   "source": [
    "# Delete items in the dictionary\n",
    "\n",
    "del char[\"level\"] # this will delete the key 'level' and the respective value as well.\n",
    "print(char)\n",
    "\n",
    "\n",
    "char.pop(\"weapon_name\")\n",
    "print(char)\n",
    "\n",
    "char.clear()  # this will remove all the key-values pair from Dictionary and gives you an empty dict\n",
    "print(char)"
   ]
  },
  {
   "cell_type": "markdown",
   "id": "963388ab-edb8-4419-a0da-4b193ed76c46",
   "metadata": {},
   "source": [
    "Q8. Discuss the importance of dictionary keys being immutable and provide examples."
   ]
  },
  {
   "cell_type": "code",
   "execution_count": 29,
   "id": "edbcf87d-73e2-44e2-a5df-d2db1128075f",
   "metadata": {},
   "outputs": [],
   "source": [
    "market={\"item_type\":\"Fruit\",\"item_name\":\"Apple\", \"quantity\":4, \"quality\":\"Fresh\"}\n",
    "\n",
    "#Immutable keys gurantess uniqness, as changing a key would create a new key, leading to duplicate keys\n",
    "\n",
    "#Immutable keys enables fast lookups, as the values can be calculated and compared quickly\n",
    "\n",
    "#In the above dictionary the keys are used to calculate a hash value, which is used to store and\n",
    "#retrieve values efficiently. Immutable keys ensure consitenet hash values"
   ]
  }
 ],
 "metadata": {
  "kernelspec": {
   "display_name": "Python 3 (ipykernel)",
   "language": "python",
   "name": "python3"
  },
  "language_info": {
   "codemirror_mode": {
    "name": "ipython",
    "version": 3
   },
   "file_extension": ".py",
   "mimetype": "text/x-python",
   "name": "python",
   "nbconvert_exporter": "python",
   "pygments_lexer": "ipython3",
   "version": "3.10.8"
  }
 },
 "nbformat": 4,
 "nbformat_minor": 5
}
