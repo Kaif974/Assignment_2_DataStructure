{
  "nbformat": 4,
  "nbformat_minor": 0,
  "metadata": {
    "colab": {
      "provenance": [],
      "authorship_tag": "ABX9TyPhBvgeQmmDHfs6uOd1COdH",
      "include_colab_link": true
    },
    "kernelspec": {
      "name": "python3",
      "display_name": "Python 3"
    },
    "language_info": {
      "name": "python"
    }
  },
  "cells": [
    {
      "cell_type": "markdown",
      "metadata": {
        "id": "view-in-github",
        "colab_type": "text"
      },
      "source": [
        "<a href=\"https://colab.research.google.com/github/Kaif974/Assignment_2_DataStructure/blob/main/Data_Structures_in_Python.ipynb\" target=\"_parent\"><img src=\"https://colab.research.google.com/assets/colab-badge.svg\" alt=\"Open In Colab\"/></a>"
      ]
    },
    {
      "cell_type": "markdown",
      "source": [
        "Q1.Write a code to reverse a string."
      ],
      "metadata": {
        "id": "xhzG6hzENdZ2"
      }
    },
    {
      "cell_type": "code",
      "source": [
        "def reverse_string(s):\n",
        "    return s[::-1]\n",
        "\n",
        "string = \"hello\"\n",
        "print(reverse_string(string))\n"
      ],
      "metadata": {
        "colab": {
          "base_uri": "https://localhost:8080/"
        },
        "id": "QbUntpDNNkx1",
        "outputId": "7bb9117c-7571-496c-8ec3-7ef3fa559c0b"
      },
      "execution_count": 1,
      "outputs": [
        {
          "output_type": "stream",
          "name": "stdout",
          "text": [
            "olleh\n"
          ]
        }
      ]
    },
    {
      "cell_type": "markdown",
      "source": [
        "Q2.Write a code to count the number of vowels in a string."
      ],
      "metadata": {
        "id": "Fc5pRvH8Nm0L"
      }
    },
    {
      "cell_type": "code",
      "source": [
        "def count_vowels(s):\n",
        "    return sum(1 for c in s.lower() if c in 'aeiou')\n",
        "\n",
        "string = \"Hello World\"\n",
        "print(count_vowels(string))\n"
      ],
      "metadata": {
        "colab": {
          "base_uri": "https://localhost:8080/"
        },
        "id": "6VfJokgUNpwl",
        "outputId": "eb5ab123-25a3-4c60-dd93-b233809584ab"
      },
      "execution_count": 2,
      "outputs": [
        {
          "output_type": "stream",
          "name": "stdout",
          "text": [
            "3\n"
          ]
        }
      ]
    },
    {
      "cell_type": "markdown",
      "source": [
        "Q3.Write a code to check if a given string is a palindrome or not."
      ],
      "metadata": {
        "id": "74Ee4-lmNu67"
      }
    },
    {
      "cell_type": "code",
      "source": [
        "def is_palindrome(s):\n",
        "    return s == s[::-1]\n",
        "\n",
        "string = \"madam\"\n",
        "print(is_palindrome(string))\n"
      ],
      "metadata": {
        "colab": {
          "base_uri": "https://localhost:8080/"
        },
        "id": "frYpiQe2NzhO",
        "outputId": "0a23cf50-e1d0-4010-b6b3-4816fac4cee9"
      },
      "execution_count": 3,
      "outputs": [
        {
          "output_type": "stream",
          "name": "stdout",
          "text": [
            "True\n"
          ]
        }
      ]
    },
    {
      "cell_type": "markdown",
      "source": [
        "Q4.Write a code to check if two given strings are anagrams of each other."
      ],
      "metadata": {
        "id": "1Pr23aMuN1wZ"
      }
    },
    {
      "cell_type": "code",
      "source": [
        "def are_anagrams(s1, s2):\n",
        "    return sorted(s1) == sorted(s2)\n",
        "\n",
        "print(are_anagrams(\"listen\", \"silent\"))\n"
      ],
      "metadata": {
        "colab": {
          "base_uri": "https://localhost:8080/"
        },
        "id": "Cvcxc-XsN4Xw",
        "outputId": "fe2cc111-1444-4adf-e56a-e0c371afb10e"
      },
      "execution_count": 4,
      "outputs": [
        {
          "output_type": "stream",
          "name": "stdout",
          "text": [
            "True\n"
          ]
        }
      ]
    },
    {
      "cell_type": "markdown",
      "source": [
        "Q5.Write a code to find all occurrences of a given substring within another string."
      ],
      "metadata": {
        "id": "qsHbeR9_N7xk"
      }
    },
    {
      "cell_type": "code",
      "source": [
        "def find_substring_occurrences(s, sub):\n",
        "    return [i for i in range(len(s) - len(sub) + 1) if s[i:i+len(sub)] == sub]\n",
        "\n",
        "print(find_substring_occurrences(\"abracadabra\", \"abra\"))\n"
      ],
      "metadata": {
        "colab": {
          "base_uri": "https://localhost:8080/"
        },
        "id": "XXAdZT7dN-Q_",
        "outputId": "c744d7c8-891e-4b7a-f0d2-cbcadd535de9"
      },
      "execution_count": 5,
      "outputs": [
        {
          "output_type": "stream",
          "name": "stdout",
          "text": [
            "[0, 7]\n"
          ]
        }
      ]
    },
    {
      "cell_type": "markdown",
      "source": [
        "Q6.Write a code to perform basic string compression using the counts of repeated characters."
      ],
      "metadata": {
        "id": "4yIgFquYOBSH"
      }
    },
    {
      "cell_type": "code",
      "source": [
        "def compress_string(s):\n",
        "    if not s:\n",
        "        return \"\"\n",
        "    result = []\n",
        "    count = 1\n",
        "    for i in range(1, len(s)):\n",
        "        if s[i] == s[i - 1]:\n",
        "            count += 1\n",
        "        else:\n",
        "            result.append(s[i - 1] + str(count))\n",
        "            count = 1\n",
        "    result.append(s[-1] + str(count))\n",
        "    return ''.join(result)\n",
        "\n",
        "print(compress_string(\"aaabbccccaa\"))\n"
      ],
      "metadata": {
        "colab": {
          "base_uri": "https://localhost:8080/"
        },
        "id": "0XvDkgLaOEw_",
        "outputId": "cd4c8f89-c744-4663-d2bb-744749a6a1cf"
      },
      "execution_count": 6,
      "outputs": [
        {
          "output_type": "stream",
          "name": "stdout",
          "text": [
            "a3b2c4a2\n"
          ]
        }
      ]
    },
    {
      "cell_type": "markdown",
      "source": [
        "Q7.Write a code to determine if a string has all unique characters."
      ],
      "metadata": {
        "id": "utf2dyEuORcA"
      }
    },
    {
      "cell_type": "code",
      "source": [
        "def has_unique_chars(s):\n",
        "    return len(s) == len(set(s))\n",
        "\n",
        "string = \"abcdef\"\n",
        "print(has_unique_chars(string))\n",
        "\n",
        "string = \"aabbcc\"\n",
        "print(has_unique_chars(string))\n"
      ],
      "metadata": {
        "colab": {
          "base_uri": "https://localhost:8080/"
        },
        "id": "xrwZo04yOTv3",
        "outputId": "f3cdea1b-562e-453a-a3f0-138518f3bbe0"
      },
      "execution_count": 7,
      "outputs": [
        {
          "output_type": "stream",
          "name": "stdout",
          "text": [
            "True\n",
            "False\n"
          ]
        }
      ]
    },
    {
      "cell_type": "markdown",
      "source": [
        "Q8.Write a code to convert a given string to uppercase or lowercase."
      ],
      "metadata": {
        "id": "3TX_t4T-OV-F"
      }
    },
    {
      "cell_type": "code",
      "source": [
        "def convert_case(s, to_upper=True):\n",
        "    if to_upper:\n",
        "        return s.upper()\n",
        "    else:\n",
        "        return s.lower()\n",
        "\n",
        "string = \"Hello World\"\n",
        "print(convert_case(string, to_upper=True))\n",
        "print(convert_case(string, to_upper=False))\n"
      ],
      "metadata": {
        "colab": {
          "base_uri": "https://localhost:8080/"
        },
        "id": "kKExryalOZBR",
        "outputId": "a29a519d-1eee-4e53-d985-7749c248b080"
      },
      "execution_count": 8,
      "outputs": [
        {
          "output_type": "stream",
          "name": "stdout",
          "text": [
            "HELLO WORLD\n",
            "hello world\n"
          ]
        }
      ]
    },
    {
      "cell_type": "markdown",
      "source": [
        "Q9.Write a code to count the number of words in a string."
      ],
      "metadata": {
        "id": "BGaupyg4OjOh"
      }
    },
    {
      "cell_type": "code",
      "source": [
        "def count_words(s):\n",
        "    return len(s.split())\n",
        "\n",
        "string = \"This is an example string.\"\n",
        "print(count_words(string))\n"
      ],
      "metadata": {
        "colab": {
          "base_uri": "https://localhost:8080/"
        },
        "id": "jiP6R_2kOm7-",
        "outputId": "27666f0a-1ce7-4d95-bddf-d3184c158b02"
      },
      "execution_count": 9,
      "outputs": [
        {
          "output_type": "stream",
          "name": "stdout",
          "text": [
            "5\n"
          ]
        }
      ]
    },
    {
      "cell_type": "markdown",
      "source": [
        "Q10.Write a code to concatenate two strings without using the + operator."
      ],
      "metadata": {
        "id": "8jzEKEIkOuKS"
      }
    },
    {
      "cell_type": "code",
      "source": [
        "def concatenate_strings(s1, s2):\n",
        "    return ''.join([s1, s2])\n",
        "\n",
        "string1 = \"Hello\"\n",
        "string2 = \"World\"\n",
        "print(concatenate_strings(string1, string2))\n"
      ],
      "metadata": {
        "colab": {
          "base_uri": "https://localhost:8080/"
        },
        "id": "55YuFmFGOvR4",
        "outputId": "228caac4-c336-43e2-c8ac-4f380031134c"
      },
      "execution_count": 10,
      "outputs": [
        {
          "output_type": "stream",
          "name": "stdout",
          "text": [
            "HelloWorld\n"
          ]
        }
      ]
    },
    {
      "cell_type": "markdown",
      "source": [
        "Q11.Write a code to remove all occurrences of a specific element from a list."
      ],
      "metadata": {
        "id": "TSw7pT2HO0eq"
      }
    },
    {
      "cell_type": "code",
      "source": [
        "def remove_element(lst, element):\n",
        "    return [item for item in lst if item != element]\n",
        "\n",
        "my_list = [1, 2, 3, 4, 3, 5, 3]\n",
        "print(remove_element(my_list, 3))\n"
      ],
      "metadata": {
        "colab": {
          "base_uri": "https://localhost:8080/"
        },
        "id": "7UHXEiaaO4N2",
        "outputId": "dea642d3-7d20-4074-c288-464793d368da"
      },
      "execution_count": 11,
      "outputs": [
        {
          "output_type": "stream",
          "name": "stdout",
          "text": [
            "[1, 2, 4, 5]\n"
          ]
        }
      ]
    },
    {
      "cell_type": "markdown",
      "source": [
        "Q12.Implement a code to find the second largest number in a given list of integers.\n"
      ],
      "metadata": {
        "id": "VsCHd3IeO6AH"
      }
    },
    {
      "cell_type": "code",
      "source": [
        "def second_largest(nums):\n",
        "    nums = list(set(nums))  # Remove duplicates\n",
        "    nums.sort()\n",
        "    return nums[-2] if len(nums) >= 2 else None\n",
        "\n",
        "my_list = [10, 20, 4, 45, 99, 45]\n",
        "print(second_largest(my_list))\n"
      ],
      "metadata": {
        "colab": {
          "base_uri": "https://localhost:8080/"
        },
        "id": "an9Eb7VFO9vL",
        "outputId": "b359e9ba-bca5-43a6-bd47-634d9e537140"
      },
      "execution_count": 12,
      "outputs": [
        {
          "output_type": "stream",
          "name": "stdout",
          "text": [
            "45\n"
          ]
        }
      ]
    },
    {
      "cell_type": "markdown",
      "source": [
        "Q13.Create a code to count the occurrences of each element in a list and return a dictionary with elements as keys and their counts as values"
      ],
      "metadata": {
        "id": "69Q-cpQZPB_P"
      }
    },
    {
      "cell_type": "code",
      "source": [
        "def count_occurrences(lst):\n",
        "    return {item: lst.count(item) for item in set(lst)}\n",
        "\n",
        "my_list = [1, 2, 2, 3, 3, 3, 4]\n",
        "print(count_occurrences(my_list))\n"
      ],
      "metadata": {
        "colab": {
          "base_uri": "https://localhost:8080/"
        },
        "id": "dH97K86wPDwy",
        "outputId": "c0e3a381-db32-4989-a839-27282d209465"
      },
      "execution_count": 13,
      "outputs": [
        {
          "output_type": "stream",
          "name": "stdout",
          "text": [
            "{1: 1, 2: 2, 3: 3, 4: 1}\n"
          ]
        }
      ]
    },
    {
      "cell_type": "markdown",
      "source": [
        "Q14. Write a code to reverse a list in-place without using any built-in reverse functions."
      ],
      "metadata": {
        "id": "Hxy5KkHkPJnR"
      }
    },
    {
      "cell_type": "code",
      "source": [
        "def reverse_list(lst):\n",
        "    left, right = 0, len(lst) - 1\n",
        "    while left < right:\n",
        "        lst[left], lst[right] = lst[right], lst[left]\n",
        "        left += 1\n",
        "        right -= 1\n",
        "\n",
        "my_list = [1, 2, 3, 4, 5]\n",
        "reverse_list(my_list)\n",
        "print(my_list)\n"
      ],
      "metadata": {
        "colab": {
          "base_uri": "https://localhost:8080/"
        },
        "id": "nx6yxOLUPKUC",
        "outputId": "e6299b93-dcbb-41cb-c0af-28b426727ee8"
      },
      "execution_count": 14,
      "outputs": [
        {
          "output_type": "stream",
          "name": "stdout",
          "text": [
            "[5, 4, 3, 2, 1]\n"
          ]
        }
      ]
    },
    {
      "cell_type": "markdown",
      "source": [
        "Q15.Implement a code to find and remove duplicates from a list while preserving the original order of elements."
      ],
      "metadata": {
        "id": "BwZVvgQTPOJZ"
      }
    },
    {
      "cell_type": "code",
      "source": [
        "def remove_duplicates(lst):\n",
        "    result = []\n",
        "    for item in lst:\n",
        "        if item not in result:\n",
        "            result.append(item)\n",
        "    return result\n",
        "\n",
        "my_list = [1, 2, 2, 3, 4, 3, 5]\n",
        "print(remove_duplicates(my_list))\n"
      ],
      "metadata": {
        "colab": {
          "base_uri": "https://localhost:8080/"
        },
        "id": "qZmfeVAkPSD9",
        "outputId": "c4bdd354-5554-426f-8045-d6be43f2864a"
      },
      "execution_count": 15,
      "outputs": [
        {
          "output_type": "stream",
          "name": "stdout",
          "text": [
            "[1, 2, 3, 4, 5]\n"
          ]
        }
      ]
    },
    {
      "cell_type": "markdown",
      "source": [
        "Q16.Create a code to check if a given list is sorted (either in ascending or descending order) or not."
      ],
      "metadata": {
        "id": "TJ2DRXBUPV1W"
      }
    },
    {
      "cell_type": "code",
      "source": [
        "def is_sorted(lst):\n",
        "    return lst == sorted(lst) or lst == sorted(lst, reverse=True)\n",
        "\n",
        "my_list = [1, 2, 3, 4, 5]\n",
        "print(is_sorted(my_list))  # Output: True\n",
        "\n",
        "my_list = [5, 4, 3, 2, 1]\n",
        "print(is_sorted(my_list))  # Output: True\n",
        "\n",
        "my_list = [1, 3, 2, 4, 5]\n",
        "print(is_sorted(my_list))  # Output: False\n"
      ],
      "metadata": {
        "colab": {
          "base_uri": "https://localhost:8080/"
        },
        "id": "p8dARm7APWvd",
        "outputId": "37ee0b9b-cdf0-4da7-ab5a-82cceb8fee2d"
      },
      "execution_count": 16,
      "outputs": [
        {
          "output_type": "stream",
          "name": "stdout",
          "text": [
            "True\n",
            "True\n",
            "False\n"
          ]
        }
      ]
    },
    {
      "cell_type": "markdown",
      "source": [
        "Q17.Write a code to merge two sorted lists into a single sorted list."
      ],
      "metadata": {
        "id": "UA7hsozpPao3"
      }
    },
    {
      "cell_type": "code",
      "source": [
        "def merge_sorted_lists(list1, list2):\n",
        "    return sorted(list1 + list2)\n",
        "\n",
        "list1 = [1, 3, 5, 7]\n",
        "list2 = [2, 4, 6, 8]\n",
        "print(merge_sorted_lists(list1, list2))\n"
      ],
      "metadata": {
        "colab": {
          "base_uri": "https://localhost:8080/"
        },
        "id": "SCCkqwJaPbx7",
        "outputId": "d9cf6522-1570-4b49-ba6d-46dc71e4f7a7"
      },
      "execution_count": 17,
      "outputs": [
        {
          "output_type": "stream",
          "name": "stdout",
          "text": [
            "[1, 2, 3, 4, 5, 6, 7, 8]\n"
          ]
        }
      ]
    },
    {
      "cell_type": "markdown",
      "source": [
        "Q18.Implement a code to find the intersection of two given lists."
      ],
      "metadata": {
        "id": "Yg1UD5QJPfcJ"
      }
    },
    {
      "cell_type": "code",
      "source": [
        "def intersection_of_lists(list1, list2):\n",
        "    return list(set(list1) & set(list2))\n",
        "\n",
        "list1 = [1, 2, 3, 4]\n",
        "list2 = [3, 4, 5, 6]\n",
        "print(intersection_of_lists(list1, list2))\n"
      ],
      "metadata": {
        "colab": {
          "base_uri": "https://localhost:8080/"
        },
        "id": "bNKWkg_nPgrG",
        "outputId": "83ce8a7a-a316-4147-99a6-b466e04a7543"
      },
      "execution_count": 18,
      "outputs": [
        {
          "output_type": "stream",
          "name": "stdout",
          "text": [
            "[3, 4]\n"
          ]
        }
      ]
    },
    {
      "cell_type": "markdown",
      "source": [
        "Q19.Create a code to find the union of two lists without duplicates."
      ],
      "metadata": {
        "id": "MKwEiTKQPmwX"
      }
    },
    {
      "cell_type": "code",
      "source": [
        "def union_of_lists(list1, list2):\n",
        "    return list(set(list1) | set(list2))\n",
        "\n",
        "list1 = [1, 2, 3, 4]\n",
        "list2 = [3, 4, 5, 6]\n",
        "print(union_of_lists(list1, list2))\n"
      ],
      "metadata": {
        "colab": {
          "base_uri": "https://localhost:8080/"
        },
        "id": "TrfuK8S7PpA9",
        "outputId": "906aac23-c571-4ff3-e961-9f91db488f64"
      },
      "execution_count": 19,
      "outputs": [
        {
          "output_type": "stream",
          "name": "stdout",
          "text": [
            "[1, 2, 3, 4, 5, 6]\n"
          ]
        }
      ]
    },
    {
      "cell_type": "markdown",
      "source": [
        "Q20.Write a code to shuffle a given list randomly without using any built-in shuffle functions."
      ],
      "metadata": {
        "id": "LqL2SFIoPq7j"
      }
    },
    {
      "cell_type": "code",
      "source": [
        "import random\n",
        "\n",
        "def shuffle_list(lst):\n",
        "    for i in range(len(lst) - 1, 0, -1):\n",
        "        j = random.randint(0, i)\n",
        "        lst[i], lst[j] = lst[j], lst[i]\n",
        "\n",
        "my_list = [1, 2, 3, 4, 5]\n",
        "shuffle_list(my_list)\n",
        "print(my_list)\n"
      ],
      "metadata": {
        "colab": {
          "base_uri": "https://localhost:8080/"
        },
        "id": "9lFeGdLoPxBP",
        "outputId": "b3e02cf8-2da1-4fb0-dba3-939a7d778359"
      },
      "execution_count": 20,
      "outputs": [
        {
          "output_type": "stream",
          "name": "stdout",
          "text": [
            "[1, 5, 4, 2, 3]\n"
          ]
        }
      ]
    },
    {
      "cell_type": "markdown",
      "source": [
        "Q21.Write a code that takes two tuples as input and returns a new tuple containing elements that are common to both input tuples."
      ],
      "metadata": {
        "id": "yCMNWlEsP5M0"
      }
    },
    {
      "cell_type": "code",
      "source": [
        "def common_elements(tuple1, tuple2):\n",
        "    return tuple(set(tuple1) & set(tuple2))\n",
        "\n",
        "tuple1 = (1, 2, 3, 4)\n",
        "tuple2 = (3, 4, 5, 6)\n",
        "print(common_elements(tuple1, tuple2))\n"
      ],
      "metadata": {
        "colab": {
          "base_uri": "https://localhost:8080/"
        },
        "id": "6A0IiHuyP6Sp",
        "outputId": "eb01a60b-6afb-4167-b71d-530f2b0da20a"
      },
      "execution_count": 21,
      "outputs": [
        {
          "output_type": "stream",
          "name": "stdout",
          "text": [
            "(3, 4)\n"
          ]
        }
      ]
    },
    {
      "cell_type": "markdown",
      "source": [
        "Q22.Cherse od that to s the user to enter two sets of integers separated by commas, Then,print the intersection of these tho set."
      ],
      "metadata": {
        "id": "pvXCcJLXQPCY"
      }
    },
    {
      "cell_type": "code",
      "source": [
        "def common_elements():\n",
        "    set1 = set(map(int, input(\"Enter the first set of integers separated by commas: \").split(',')))\n",
        "    set2 = set(map(int, input(\"Enter the second set of integers separated by commas: \").split(',')))\n",
        "    print(\"The intersection of the two sets is:\", set1 & set2)\n",
        "\n",
        "common_elements()\n"
      ],
      "metadata": {
        "colab": {
          "base_uri": "https://localhost:8080/"
        },
        "id": "jjDW3fRNQQFS",
        "outputId": "320aa8c7-114f-43d2-fc75-a22e8f75802b"
      },
      "execution_count": 22,
      "outputs": [
        {
          "output_type": "stream",
          "name": "stdout",
          "text": [
            "Enter the first set of integers separated by commas: 1,2,3,4,5\n",
            "Enter the second set of integers separated by commas: 3,4,5,6,7\n",
            "The intersection of the two sets is: {3, 4, 5}\n"
          ]
        }
      ]
    },
    {
      "cell_type": "markdown",
      "source": [
        "Q23.Write a code to concatenate two tuples. The function should take two tuples as input and return a new tuple containing elements from both input tuples."
      ],
      "metadata": {
        "id": "YPeJIKQ_QfS8"
      }
    },
    {
      "cell_type": "code",
      "source": [
        "def concatenate_tuples(tuple1, tuple2):\n",
        "    return tuple1 + tuple2\n",
        "\n",
        "tuple1 = (1, 2, 3)\n",
        "tuple2 = (4, 5, 6)\n",
        "print(concatenate_tuples(tuple1, tuple2))\n"
      ],
      "metadata": {
        "colab": {
          "base_uri": "https://localhost:8080/"
        },
        "id": "3Bg2mYp5QkOy",
        "outputId": "fd99f43f-a510-464c-e95c-e918b8b32094"
      },
      "execution_count": 23,
      "outputs": [
        {
          "output_type": "stream",
          "name": "stdout",
          "text": [
            "(1, 2, 3, 4, 5, 6)\n"
          ]
        }
      ]
    },
    {
      "cell_type": "markdown",
      "source": [
        "Q24.Develop a code that prompts the user to input two sets of strings. Then, print the elements that aesent in the first set but not in the second set."
      ],
      "metadata": {
        "id": "80OJGatNQtB1"
      }
    },
    {
      "cell_type": "code",
      "source": [
        "def difference_of_sets():\n",
        "    set1 = set(input(\"Enter the first set of strings separated by commas: \").split(','))\n",
        "    set2 = set(input(\"Enter the second set of strings separated by commas: \").split(','))\n",
        "    print(\"Elements present in the first set but not in the second set:\", set1 - set2)\n",
        "\n",
        "difference_of_sets()\n"
      ],
      "metadata": {
        "colab": {
          "base_uri": "https://localhost:8080/"
        },
        "id": "pwWWJhQ2QvxJ",
        "outputId": "d8cae73f-cfc2-43ff-da56-2174ce5727d2"
      },
      "execution_count": 24,
      "outputs": [
        {
          "output_type": "stream",
          "name": "stdout",
          "text": [
            "Enter the first set of strings separated by commas: apple, banana,cherry\n",
            "Enter the second set of strings separated by commas: banana, kiwi\n",
            "Elements present in the first set but not in the second set: {' banana', 'cherry', 'apple'}\n"
          ]
        }
      ]
    },
    {
      "cell_type": "markdown",
      "source": [
        "Q25.Create a code that takes a tuple and two integers as input. The function should return a new tuple containing elements from the original tuple within the specified range of indices"
      ],
      "metadata": {
        "id": "zKDDSMpCQ-UV"
      }
    },
    {
      "cell_type": "code",
      "source": [
        "def slice_tuple(tup, start_index, end_index):\n",
        "    return tup[start_index:end_index]\n",
        "\n",
        "# Example usage\n",
        "tuple_input = tuple(map(int, input(\"Enter a tuple of integers separated by commas: \").split(',')))\n",
        "start = int(input(\"Enter the start index: \"))\n",
        "end = int(input(\"Enter the end index: \"))\n",
        "\n",
        "result = slice_tuple(tuple_input, start, end)\n",
        "print(result)\n"
      ],
      "metadata": {
        "colab": {
          "base_uri": "https://localhost:8080/"
        },
        "id": "8A6Xm1t1UtRV",
        "outputId": "3558eb9a-cbba-4f27-f240-f7bed82a2c58"
      },
      "execution_count": 38,
      "outputs": [
        {
          "output_type": "stream",
          "name": "stdout",
          "text": [
            "Enter a tuple of integers separated by commas: 1,2,3,4,5,6,7\n",
            "Enter the start index: 2\n",
            "Enter the end index: 5\n",
            "(3, 4, 5)\n"
          ]
        }
      ]
    },
    {
      "cell_type": "markdown",
      "source": [
        "Q26.Write a code that prompts the user to input two sets of characters. Then, print the union of these two sets."
      ],
      "metadata": {
        "id": "VcojplQgRRTO"
      }
    },
    {
      "cell_type": "code",
      "source": [
        "def union_of_sets():\n",
        "    set1 = set(input(\"Enter the first set of characters separated by commas: \").split(','))\n",
        "    set2 = set(input(\"Enter the second set of characters separated by commas: \").split(','))\n",
        "    print(\"The union of the two sets is:\", set1 | set2)\n",
        "\n",
        "union_of_sets()\n"
      ],
      "metadata": {
        "colab": {
          "base_uri": "https://localhost:8080/"
        },
        "id": "1mMfRjQeRSj5",
        "outputId": "d59e1de7-c004-4f22-81de-62377066801a"
      },
      "execution_count": 25,
      "outputs": [
        {
          "output_type": "stream",
          "name": "stdout",
          "text": [
            "Enter the first set of characters separated by commas: a,b,c\n",
            "Enter the second set of characters separated by commas: c,d,e\n",
            "The union of the two sets is: {'c', 'a', 'e', 'd', 'b'}\n"
          ]
        }
      ]
    },
    {
      "cell_type": "markdown",
      "source": [
        "Q27.Develop a code that takes a tuple of integers as input. The function should return the maximum an linimum values from the tuple using tuple unpacking."
      ],
      "metadata": {
        "id": "wlc0Pg5ARc4h"
      }
    },
    {
      "cell_type": "code",
      "source": [
        "def find_max_min(tuple_of_integers):\n",
        "    max_value, min_value = max(tuple_of_integers), min(tuple_of_integers)\n",
        "    return max_value, min_value\n",
        "\n",
        "tuple_input = tuple(map(int, input(\"Enter a tuple of integers separated by commas: \").split(',')))\n",
        "max_val, min_val = find_max_min(tuple_input)\n",
        "print(f\"Maximum value: {max_val}, Minimum value: {min_val}\")\n"
      ],
      "metadata": {
        "colab": {
          "base_uri": "https://localhost:8080/"
        },
        "id": "cy2Xfa9aReZO",
        "outputId": "b4de6672-8e9f-40c2-9fb7-f3ecf4d66900"
      },
      "execution_count": 26,
      "outputs": [
        {
          "output_type": "stream",
          "name": "stdout",
          "text": [
            "Enter a tuple of integers separated by commas: 1,2,3,4,5\n",
            "Maximum value: 5, Minimum value: 1\n"
          ]
        }
      ]
    },
    {
      "cell_type": "markdown",
      "source": [
        "Q28. Create a code that defines two sets of integers. Then, print the union, intersection, and difference of these two sets."
      ],
      "metadata": {
        "id": "Cul6dyH5RjZN"
      }
    },
    {
      "cell_type": "code",
      "source": [
        "def set_operations():\n",
        "    set1 = {1, 2, 3, 4, 5}\n",
        "    set2 = {4, 5, 6, 7, 8}\n",
        "\n",
        "    print(\"Union of the two sets:\", set1 | set2)\n",
        "    print(\"Intersection of the two sets:\", set1 & set2)\n",
        "    print(\"Difference of the two sets (set1 - set2):\", set1 - set2)\n",
        "\n",
        "set_operations()\n"
      ],
      "metadata": {
        "colab": {
          "base_uri": "https://localhost:8080/"
        },
        "id": "f15B0J8PRoSY",
        "outputId": "8d0c06a3-86e8-4750-9153-1f6cc1a80119"
      },
      "execution_count": 27,
      "outputs": [
        {
          "output_type": "stream",
          "name": "stdout",
          "text": [
            "Union of the two sets: {1, 2, 3, 4, 5, 6, 7, 8}\n",
            "Intersection of the two sets: {4, 5}\n",
            "Difference of the two sets (set1 - set2): {1, 2, 3}\n"
          ]
        }
      ]
    },
    {
      "cell_type": "markdown",
      "source": [
        "Q29.Write a code that takes a tuple and an element as input. The function should return the count of occurrences of the given element in the tuple."
      ],
      "metadata": {
        "id": "cEHj3i5sRr87"
      }
    },
    {
      "cell_type": "code",
      "source": [
        "def count_occurrences_in_tuple(tup, element):\n",
        "    return tup.count(element)\n",
        "\n",
        "tuple_input = tuple(map(int, input(\"Enter a tuple of integers separated by commas: \").split(',')))\n",
        "element_input = int(input(\"Enter the element to count: \"))\n",
        "print(f\"The element {element_input} appears {count_occurrences_in_tuple(tuple_input, element_input)} times.\")\n",
        "\n"
      ],
      "metadata": {
        "colab": {
          "base_uri": "https://localhost:8080/"
        },
        "id": "CLpAziwZRwQ2",
        "outputId": "734453af-a9da-4018-cfd0-2173b1b707eb"
      },
      "execution_count": 28,
      "outputs": [
        {
          "output_type": "stream",
          "name": "stdout",
          "text": [
            "Enter a tuple of integers separated by commas: 1,2,3,1,3\n",
            "Enter the element to count: 2\n",
            "The element 2 appears 1 times.\n"
          ]
        }
      ]
    },
    {
      "cell_type": "markdown",
      "source": [
        "Q30.Develop a code that prompts the user to input two sets of strings. Then, print the symmetric difference of these two sets."
      ],
      "metadata": {
        "id": "QH4eu1PxR37y"
      }
    },
    {
      "cell_type": "code",
      "source": [
        "def symmetric_difference_of_sets():\n",
        "    set1 = set(input(\"Enter the first set of strings separated by commas: \").split(','))\n",
        "    set2 = set(input(\"Enter the second set of strings separated by commas: \").split(','))\n",
        "    print(\"The symmetric difference of the two sets is:\", set1 ^ set2)\n",
        "\n",
        "symmetric_difference_of_sets()\n"
      ],
      "metadata": {
        "colab": {
          "base_uri": "https://localhost:8080/"
        },
        "id": "Q5UTZoxkR62y",
        "outputId": "c97fbf40-d404-43d3-f6b8-15b10e06df2b"
      },
      "execution_count": 29,
      "outputs": [
        {
          "output_type": "stream",
          "name": "stdout",
          "text": [
            "Enter the first set of strings separated by commas: apple,banana\n",
            "Enter the second set of strings separated by commas: apple\n",
            "The symmetric difference of the two sets is: {'banana'}\n"
          ]
        }
      ]
    },
    {
      "cell_type": "markdown",
      "source": [
        "Q31.withe vade are he relien es of tre se word in the in ditionary whore the keys are unique words and the value are the frequencies of those words in the input list."
      ],
      "metadata": {
        "id": "Tc1uY1XCSDTq"
      }
    },
    {
      "cell_type": "code",
      "source": [
        "def word_frequencies(words):\n",
        "    frequency_dict = {}\n",
        "    for word in words:\n",
        "        frequency_dict[word] = frequency_dict.get(word, 0) + 1\n",
        "    return frequency_dict\n",
        "\n",
        "input_list = input(\"Enter a list of words separated by commas: \").split(',')\n",
        "print(word_frequencies(input_list))\n"
      ],
      "metadata": {
        "colab": {
          "base_uri": "https://localhost:8080/"
        },
        "id": "yLUedO6JSZ8j",
        "outputId": "8dbe58bb-e9d6-4330-9dce-147ee287608a"
      },
      "execution_count": 30,
      "outputs": [
        {
          "output_type": "stream",
          "name": "stdout",
          "text": [
            "Enter a list of words separated by commas: apple, banana,cherry,apple,banana,orange\n",
            "{'apple': 2, ' banana': 1, 'cherry': 1, 'banana': 1, 'orange': 1}\n"
          ]
        }
      ]
    },
    {
      "cell_type": "markdown",
      "source": [
        "Q32.Write a code that takes two dictionaries as input and merges them into a single dictionary. If there are common keys, the values should be added together"
      ],
      "metadata": {
        "id": "wYNq03erSilM"
      }
    },
    {
      "cell_type": "code",
      "source": [
        "from collections import defaultdict\n",
        "\n",
        "def merge_and_sum_dicts(dict1, dict2):\n",
        "    merged_dict = defaultdict(int)\n",
        "\n",
        "    for key, value in dict1.items():\n",
        "        merged_dict[key] += value\n",
        "\n",
        "    for key, value in dict2.items():\n",
        "        merged_dict[key] += value\n",
        "\n",
        "    return dict(merged_dict)\n",
        "\n",
        "dict1 = eval(input(\"Enter the first dictionary: \"))\n",
        "dict2 = eval(input(\"Enter the second dictionary: \"))\n",
        "print(merge_and_sum_dicts(dict1, dict2))\n"
      ],
      "metadata": {
        "colab": {
          "base_uri": "https://localhost:8080/"
        },
        "id": "BiuO3yXMTdi_",
        "outputId": "9278503c-ef7c-487c-b4ec-22c36e0645eb"
      },
      "execution_count": 34,
      "outputs": [
        {
          "output_type": "stream",
          "name": "stdout",
          "text": [
            "Enter the first dictionary: {'apple': 2, 'banana': 3, 'cherry': 1}\n",
            "Enter the second dictionary: {'banana': 1, 'cherry': 4, 'date': 2}\n",
            "{'apple': 2, 'banana': 4, 'cherry': 5, 'date': 2}\n"
          ]
        }
      ]
    },
    {
      "cell_type": "markdown",
      "source": [
        "Q33.33. Write a code to access a value in a nested dictionary. The function should take the dictionary and a list of keys as input, and return the corresponding value. If any of the keys do not exist in the dictionary, the function should return None."
      ],
      "metadata": {
        "id": "JVJuYoQvUO80"
      }
    },
    {
      "cell_type": "code",
      "source": [
        "def get_value_from_nested_dict(d, keys):\n",
        "    for key in keys:\n",
        "        if isinstance(d, dict) and key in d:\n",
        "            d = d[key]\n",
        "        else:\n",
        "            return None\n",
        "    return d\n",
        "\n",
        "# Example usage\n",
        "nested_dict = {\n",
        "    'a': {\n",
        "        'b': {\n",
        "            'c': 10\n",
        "        }\n",
        "    }\n",
        "}\n",
        "\n",
        "keys = ['a', 'b', 'c']\n",
        "print(get_value_from_nested_dict(nested_dict, keys))  # Output: 10\n",
        "\n",
        "keys = ['a', 'b', 'd']\n",
        "print(get_value_from_nested_dict(nested_dict, keys))  # Output: None\n"
      ],
      "metadata": {
        "colab": {
          "base_uri": "https://localhost:8080/"
        },
        "id": "9Ro7UFtLURCd",
        "outputId": "e89f127b-b532-4a50-dc30-237f2c5084ef"
      },
      "execution_count": 35,
      "outputs": [
        {
          "output_type": "stream",
          "name": "stdout",
          "text": [
            "10\n",
            "None\n"
          ]
        }
      ]
    },
    {
      "cell_type": "markdown",
      "source": [
        "Q34.Write a code that takes a dictionary as input and returns a sorted version of it based on the values. You can choose whether to sort in ascending or descending order"
      ],
      "metadata": {
        "id": "xjfsMP0mUU6E"
      }
    },
    {
      "cell_type": "code",
      "source": [
        "def sort_dict_by_values(d, descending=False):\n",
        "    return dict(sorted(d.items(), key=lambda item: item[1], reverse=descending))\n",
        "\n",
        "# Example usage\n",
        "input_dict = eval(input(\"Enter a dictionary: \"))\n",
        "order = input(\"Sort in descending order? (yes/no): \").strip().lower() == 'yes'\n",
        "\n",
        "sorted_dict = sort_dict_by_values(input_dict, descending=order)\n",
        "print(sorted_dict)\n"
      ],
      "metadata": {
        "colab": {
          "base_uri": "https://localhost:8080/"
        },
        "id": "q5smEHFpUXxx",
        "outputId": "4c1311c9-a4df-41f5-d6b9-265942523554"
      },
      "execution_count": 36,
      "outputs": [
        {
          "output_type": "stream",
          "name": "stdout",
          "text": [
            "Enter a dictionary: {'apple': 5, 'banana': 2, 'cherry': 7}\n",
            "Sort in descending order? (yes/no): yes\n",
            "{'cherry': 7, 'apple': 5, 'banana': 2}\n"
          ]
        }
      ]
    },
    {
      "cell_type": "markdown",
      "source": [
        "Q35.Write a code that inverts a dictionary, swapping keys and values. Ensure that the inverted dictionary correctly handles cases where multiple keys have the same value by storing the keys as a list in the Inverted dictionary"
      ],
      "metadata": {
        "id": "DMX7Q5YcUgAf"
      }
    },
    {
      "cell_type": "code",
      "source": [
        "def invert_dict(d):\n",
        "    inverted_dict = {}\n",
        "\n",
        "    for key, value in d.items():\n",
        "        if value in inverted_dict:\n",
        "            inverted_dict[value].append(key)\n",
        "        else:\n",
        "            inverted_dict[value] = [key]\n",
        "\n",
        "    return inverted_dict\n",
        "\n",
        "# Example usage\n",
        "input_dict = eval(input(\"Enter a dictionary: \"))\n",
        "inverted_dict = invert_dict(input_dict)\n",
        "print(inverted_dict)\n"
      ],
      "metadata": {
        "colab": {
          "base_uri": "https://localhost:8080/"
        },
        "id": "HyA-sn6MUjBn",
        "outputId": "17cdce36-f21a-4446-921c-7c72299c8d29"
      },
      "execution_count": 37,
      "outputs": [
        {
          "output_type": "stream",
          "name": "stdout",
          "text": [
            "Enter a dictionary: {'a': 1, 'b': 2, 'c': 1, 'd': 3}\n",
            "{1: ['a', 'c'], 2: ['b'], 3: ['d']}\n"
          ]
        }
      ]
    },
    {
      "cell_type": "code",
      "source": [],
      "metadata": {
        "id": "7Kz-ojUzUl5Z"
      },
      "execution_count": null,
      "outputs": []
    },
    {
      "cell_type": "code",
      "source": [],
      "metadata": {
        "id": "KUyg9ryBUaty"
      },
      "execution_count": null,
      "outputs": []
    },
    {
      "cell_type": "code",
      "source": [],
      "metadata": {
        "id": "FZox_x3qUURN"
      },
      "execution_count": null,
      "outputs": []
    },
    {
      "cell_type": "code",
      "source": [],
      "metadata": {
        "id": "NnazNYTjUHSZ"
      },
      "execution_count": null,
      "outputs": []
    },
    {
      "cell_type": "code",
      "source": [],
      "metadata": {
        "id": "OEvEkEV3TuGZ"
      },
      "execution_count": null,
      "outputs": []
    },
    {
      "cell_type": "code",
      "source": [],
      "metadata": {
        "id": "P6jrpbFCTnKk"
      },
      "execution_count": null,
      "outputs": []
    },
    {
      "cell_type": "code",
      "source": [],
      "metadata": {
        "id": "lwLGAND9Tgy2"
      },
      "execution_count": null,
      "outputs": []
    },
    {
      "cell_type": "code",
      "source": [],
      "metadata": {
        "id": "UfnmqgiSSbJA"
      },
      "execution_count": null,
      "outputs": []
    },
    {
      "cell_type": "code",
      "source": [],
      "metadata": {
        "id": "-2VS-6zUR8cD"
      },
      "execution_count": null,
      "outputs": []
    },
    {
      "cell_type": "code",
      "source": [],
      "metadata": {
        "id": "E8QGMwPvRyRF"
      },
      "execution_count": null,
      "outputs": []
    },
    {
      "cell_type": "code",
      "source": [],
      "metadata": {
        "id": "mbQ8PIpORrGT"
      },
      "execution_count": null,
      "outputs": []
    },
    {
      "cell_type": "code",
      "source": [],
      "metadata": {
        "id": "-lTzO8UoRgYe"
      },
      "execution_count": null,
      "outputs": []
    },
    {
      "cell_type": "code",
      "source": [],
      "metadata": {
        "id": "puCvQ1h7RVvK"
      },
      "execution_count": null,
      "outputs": []
    },
    {
      "cell_type": "code",
      "source": [],
      "metadata": {
        "id": "F8UMKVSqQzJ6"
      },
      "execution_count": null,
      "outputs": []
    },
    {
      "cell_type": "code",
      "source": [],
      "metadata": {
        "id": "8mq5u3l2Qlfr"
      },
      "execution_count": null,
      "outputs": []
    },
    {
      "cell_type": "code",
      "source": [],
      "metadata": {
        "id": "MJcgMkv7QRQf"
      },
      "execution_count": null,
      "outputs": []
    },
    {
      "cell_type": "code",
      "source": [],
      "metadata": {
        "id": "OtTiyeukP7qD"
      },
      "execution_count": null,
      "outputs": []
    },
    {
      "cell_type": "code",
      "source": [],
      "metadata": {
        "id": "ArGbwizyPzc-"
      },
      "execution_count": null,
      "outputs": []
    },
    {
      "cell_type": "code",
      "source": [],
      "metadata": {
        "id": "lkwWSHjEPtAQ"
      },
      "execution_count": null,
      "outputs": []
    },
    {
      "cell_type": "code",
      "source": [],
      "metadata": {
        "id": "EADOsVJrPqNV"
      },
      "execution_count": null,
      "outputs": []
    },
    {
      "cell_type": "code",
      "source": [],
      "metadata": {
        "id": "SlJ9ApPyPiAY"
      },
      "execution_count": null,
      "outputs": []
    },
    {
      "cell_type": "code",
      "source": [],
      "metadata": {
        "id": "er8X8UlePc8K"
      },
      "execution_count": null,
      "outputs": []
    },
    {
      "cell_type": "code",
      "source": [],
      "metadata": {
        "id": "RvaR-o7NPX4U"
      },
      "execution_count": null,
      "outputs": []
    },
    {
      "cell_type": "code",
      "source": [],
      "metadata": {
        "id": "Rpgwvc-WPTPr"
      },
      "execution_count": null,
      "outputs": []
    }
  ]
}